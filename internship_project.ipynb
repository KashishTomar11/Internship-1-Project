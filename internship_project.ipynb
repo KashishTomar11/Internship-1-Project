{
 "cells": [
  {
   "cell_type": "markdown",
   "id": "50c7c4eb-a1df-490f-bc65-9875ca920c32",
   "metadata": {},
   "source": [
    "## Project Name- Online Retail Customer Segmentation\n",
    "\n",
    "Project Type- Unsupervised\n",
    "\n",
    "Problem Statement-\n",
    "The objective of this project is to develop a  customer segmentation model for an online retail business in order to gain valuable insights into the customer base and implement targeted strategies to enhance customer satisfaction, increase sales and optimize marketing efforts. By analyzing transactional data and customer attributes such as purchasing behavior, demographics and geographic location, the project aims to create meaningful customer segments that can drive personalized marketing campaigns, improve inventory management and foster customer loyalty."
   ]
  },
  {
   "cell_type": "code",
   "execution_count": 97,
   "id": "63a2ec33-e778-4154-a1a0-4a99923534c7",
   "metadata": {},
   "outputs": [],
   "source": [
    "import pandas as pd\n",
    "import numpy as np\n",
    "from sklearn.preprocessing import StandardScaler, LabelEncoder\n",
    "from sklearn.feature_selection import SelectKBest, f_classif\n",
    "import matplotlib.pyplot as plt\n",
    "from sklearn.cluster import KMeans\n",
    "import seaborn as sns"
   ]
  },
  {
   "cell_type": "markdown",
   "id": "3296083d-c830-44a5-b1d9-83d016a8b973",
   "metadata": {},
   "source": [
    "## Load the Data"
   ]
  },
  {
   "cell_type": "code",
   "execution_count": 98,
   "id": "ab7f4ec1-6bb6-4bb6-9fa6-d53c15a7ced7",
   "metadata": {},
   "outputs": [],
   "source": [
    "df= pd.read_excel(r\"E:\\New folder\\Dataset_Identify customer segments for online retail with the use of K-means clustering\\Online Retail.xlsx\", sheet_name=\"Online Retail\")"
   ]
  },
  {
   "cell_type": "code",
   "execution_count": 99,
   "id": "8478c175-034a-430f-a139-e34aa63473b8",
   "metadata": {},
   "outputs": [
    {
     "data": {
      "text/html": [
       "<div>\n",
       "<style scoped>\n",
       "    .dataframe tbody tr th:only-of-type {\n",
       "        vertical-align: middle;\n",
       "    }\n",
       "\n",
       "    .dataframe tbody tr th {\n",
       "        vertical-align: top;\n",
       "    }\n",
       "\n",
       "    .dataframe thead th {\n",
       "        text-align: right;\n",
       "    }\n",
       "</style>\n",
       "<table border=\"1\" class=\"dataframe\">\n",
       "  <thead>\n",
       "    <tr style=\"text-align: right;\">\n",
       "      <th></th>\n",
       "      <th>InvoiceNo</th>\n",
       "      <th>StockCode</th>\n",
       "      <th>Description</th>\n",
       "      <th>Quantity</th>\n",
       "      <th>InvoiceDate</th>\n",
       "      <th>UnitPrice</th>\n",
       "      <th>CustomerID</th>\n",
       "      <th>Country</th>\n",
       "    </tr>\n",
       "  </thead>\n",
       "  <tbody>\n",
       "    <tr>\n",
       "      <th>0</th>\n",
       "      <td>536365</td>\n",
       "      <td>85123A</td>\n",
       "      <td>WHITE HANGING HEART T-LIGHT HOLDER</td>\n",
       "      <td>6</td>\n",
       "      <td>2010-12-01 08:26:00</td>\n",
       "      <td>2.55</td>\n",
       "      <td>17850.0</td>\n",
       "      <td>United Kingdom</td>\n",
       "    </tr>\n",
       "    <tr>\n",
       "      <th>1</th>\n",
       "      <td>536365</td>\n",
       "      <td>71053</td>\n",
       "      <td>WHITE METAL LANTERN</td>\n",
       "      <td>6</td>\n",
       "      <td>2010-12-01 08:26:00</td>\n",
       "      <td>3.39</td>\n",
       "      <td>17850.0</td>\n",
       "      <td>United Kingdom</td>\n",
       "    </tr>\n",
       "    <tr>\n",
       "      <th>2</th>\n",
       "      <td>536365</td>\n",
       "      <td>84406B</td>\n",
       "      <td>CREAM CUPID HEARTS COAT HANGER</td>\n",
       "      <td>8</td>\n",
       "      <td>2010-12-01 08:26:00</td>\n",
       "      <td>2.75</td>\n",
       "      <td>17850.0</td>\n",
       "      <td>United Kingdom</td>\n",
       "    </tr>\n",
       "    <tr>\n",
       "      <th>3</th>\n",
       "      <td>536365</td>\n",
       "      <td>84029G</td>\n",
       "      <td>KNITTED UNION FLAG HOT WATER BOTTLE</td>\n",
       "      <td>6</td>\n",
       "      <td>2010-12-01 08:26:00</td>\n",
       "      <td>3.39</td>\n",
       "      <td>17850.0</td>\n",
       "      <td>United Kingdom</td>\n",
       "    </tr>\n",
       "    <tr>\n",
       "      <th>4</th>\n",
       "      <td>536365</td>\n",
       "      <td>84029E</td>\n",
       "      <td>RED WOOLLY HOTTIE WHITE HEART.</td>\n",
       "      <td>6</td>\n",
       "      <td>2010-12-01 08:26:00</td>\n",
       "      <td>3.39</td>\n",
       "      <td>17850.0</td>\n",
       "      <td>United Kingdom</td>\n",
       "    </tr>\n",
       "    <tr>\n",
       "      <th>...</th>\n",
       "      <td>...</td>\n",
       "      <td>...</td>\n",
       "      <td>...</td>\n",
       "      <td>...</td>\n",
       "      <td>...</td>\n",
       "      <td>...</td>\n",
       "      <td>...</td>\n",
       "      <td>...</td>\n",
       "    </tr>\n",
       "    <tr>\n",
       "      <th>541904</th>\n",
       "      <td>581587</td>\n",
       "      <td>22613</td>\n",
       "      <td>PACK OF 20 SPACEBOY NAPKINS</td>\n",
       "      <td>12</td>\n",
       "      <td>2011-12-09 12:50:00</td>\n",
       "      <td>0.85</td>\n",
       "      <td>12680.0</td>\n",
       "      <td>France</td>\n",
       "    </tr>\n",
       "    <tr>\n",
       "      <th>541905</th>\n",
       "      <td>581587</td>\n",
       "      <td>22899</td>\n",
       "      <td>CHILDREN'S APRON DOLLY GIRL</td>\n",
       "      <td>6</td>\n",
       "      <td>2011-12-09 12:50:00</td>\n",
       "      <td>2.10</td>\n",
       "      <td>12680.0</td>\n",
       "      <td>France</td>\n",
       "    </tr>\n",
       "    <tr>\n",
       "      <th>541906</th>\n",
       "      <td>581587</td>\n",
       "      <td>23254</td>\n",
       "      <td>CHILDRENS CUTLERY DOLLY GIRL</td>\n",
       "      <td>4</td>\n",
       "      <td>2011-12-09 12:50:00</td>\n",
       "      <td>4.15</td>\n",
       "      <td>12680.0</td>\n",
       "      <td>France</td>\n",
       "    </tr>\n",
       "    <tr>\n",
       "      <th>541907</th>\n",
       "      <td>581587</td>\n",
       "      <td>23255</td>\n",
       "      <td>CHILDRENS CUTLERY CIRCUS PARADE</td>\n",
       "      <td>4</td>\n",
       "      <td>2011-12-09 12:50:00</td>\n",
       "      <td>4.15</td>\n",
       "      <td>12680.0</td>\n",
       "      <td>France</td>\n",
       "    </tr>\n",
       "    <tr>\n",
       "      <th>541908</th>\n",
       "      <td>581587</td>\n",
       "      <td>22138</td>\n",
       "      <td>BAKING SET 9 PIECE RETROSPOT</td>\n",
       "      <td>3</td>\n",
       "      <td>2011-12-09 12:50:00</td>\n",
       "      <td>4.95</td>\n",
       "      <td>12680.0</td>\n",
       "      <td>France</td>\n",
       "    </tr>\n",
       "  </tbody>\n",
       "</table>\n",
       "<p>541909 rows × 8 columns</p>\n",
       "</div>"
      ],
      "text/plain": [
       "       InvoiceNo StockCode                          Description  Quantity  \\\n",
       "0         536365    85123A   WHITE HANGING HEART T-LIGHT HOLDER         6   \n",
       "1         536365     71053                  WHITE METAL LANTERN         6   \n",
       "2         536365    84406B       CREAM CUPID HEARTS COAT HANGER         8   \n",
       "3         536365    84029G  KNITTED UNION FLAG HOT WATER BOTTLE         6   \n",
       "4         536365    84029E       RED WOOLLY HOTTIE WHITE HEART.         6   \n",
       "...          ...       ...                                  ...       ...   \n",
       "541904    581587     22613          PACK OF 20 SPACEBOY NAPKINS        12   \n",
       "541905    581587     22899         CHILDREN'S APRON DOLLY GIRL          6   \n",
       "541906    581587     23254        CHILDRENS CUTLERY DOLLY GIRL          4   \n",
       "541907    581587     23255      CHILDRENS CUTLERY CIRCUS PARADE         4   \n",
       "541908    581587     22138        BAKING SET 9 PIECE RETROSPOT          3   \n",
       "\n",
       "               InvoiceDate  UnitPrice  CustomerID         Country  \n",
       "0      2010-12-01 08:26:00       2.55     17850.0  United Kingdom  \n",
       "1      2010-12-01 08:26:00       3.39     17850.0  United Kingdom  \n",
       "2      2010-12-01 08:26:00       2.75     17850.0  United Kingdom  \n",
       "3      2010-12-01 08:26:00       3.39     17850.0  United Kingdom  \n",
       "4      2010-12-01 08:26:00       3.39     17850.0  United Kingdom  \n",
       "...                    ...        ...         ...             ...  \n",
       "541904 2011-12-09 12:50:00       0.85     12680.0          France  \n",
       "541905 2011-12-09 12:50:00       2.10     12680.0          France  \n",
       "541906 2011-12-09 12:50:00       4.15     12680.0          France  \n",
       "541907 2011-12-09 12:50:00       4.15     12680.0          France  \n",
       "541908 2011-12-09 12:50:00       4.95     12680.0          France  \n",
       "\n",
       "[541909 rows x 8 columns]"
      ]
     },
     "execution_count": 99,
     "metadata": {},
     "output_type": "execute_result"
    }
   ],
   "source": [
    "df"
   ]
  },
  {
   "cell_type": "markdown",
   "id": "619ddc81-96b3-452f-a652-794059c815fd",
   "metadata": {},
   "source": [
    "## Understand the data"
   ]
  },
  {
   "cell_type": "code",
   "execution_count": 100,
   "id": "76ea3553-6248-4bc8-b25d-415e569e6b0b",
   "metadata": {},
   "outputs": [
    {
     "data": {
      "text/html": [
       "<div>\n",
       "<style scoped>\n",
       "    .dataframe tbody tr th:only-of-type {\n",
       "        vertical-align: middle;\n",
       "    }\n",
       "\n",
       "    .dataframe tbody tr th {\n",
       "        vertical-align: top;\n",
       "    }\n",
       "\n",
       "    .dataframe thead th {\n",
       "        text-align: right;\n",
       "    }\n",
       "</style>\n",
       "<table border=\"1\" class=\"dataframe\">\n",
       "  <thead>\n",
       "    <tr style=\"text-align: right;\">\n",
       "      <th></th>\n",
       "      <th>InvoiceNo</th>\n",
       "      <th>StockCode</th>\n",
       "      <th>Description</th>\n",
       "      <th>Quantity</th>\n",
       "      <th>InvoiceDate</th>\n",
       "      <th>UnitPrice</th>\n",
       "      <th>CustomerID</th>\n",
       "      <th>Country</th>\n",
       "    </tr>\n",
       "  </thead>\n",
       "  <tbody>\n",
       "    <tr>\n",
       "      <th>0</th>\n",
       "      <td>536365</td>\n",
       "      <td>85123A</td>\n",
       "      <td>WHITE HANGING HEART T-LIGHT HOLDER</td>\n",
       "      <td>6</td>\n",
       "      <td>2010-12-01 08:26:00</td>\n",
       "      <td>2.55</td>\n",
       "      <td>17850.0</td>\n",
       "      <td>United Kingdom</td>\n",
       "    </tr>\n",
       "    <tr>\n",
       "      <th>1</th>\n",
       "      <td>536365</td>\n",
       "      <td>71053</td>\n",
       "      <td>WHITE METAL LANTERN</td>\n",
       "      <td>6</td>\n",
       "      <td>2010-12-01 08:26:00</td>\n",
       "      <td>3.39</td>\n",
       "      <td>17850.0</td>\n",
       "      <td>United Kingdom</td>\n",
       "    </tr>\n",
       "    <tr>\n",
       "      <th>2</th>\n",
       "      <td>536365</td>\n",
       "      <td>84406B</td>\n",
       "      <td>CREAM CUPID HEARTS COAT HANGER</td>\n",
       "      <td>8</td>\n",
       "      <td>2010-12-01 08:26:00</td>\n",
       "      <td>2.75</td>\n",
       "      <td>17850.0</td>\n",
       "      <td>United Kingdom</td>\n",
       "    </tr>\n",
       "    <tr>\n",
       "      <th>3</th>\n",
       "      <td>536365</td>\n",
       "      <td>84029G</td>\n",
       "      <td>KNITTED UNION FLAG HOT WATER BOTTLE</td>\n",
       "      <td>6</td>\n",
       "      <td>2010-12-01 08:26:00</td>\n",
       "      <td>3.39</td>\n",
       "      <td>17850.0</td>\n",
       "      <td>United Kingdom</td>\n",
       "    </tr>\n",
       "    <tr>\n",
       "      <th>4</th>\n",
       "      <td>536365</td>\n",
       "      <td>84029E</td>\n",
       "      <td>RED WOOLLY HOTTIE WHITE HEART.</td>\n",
       "      <td>6</td>\n",
       "      <td>2010-12-01 08:26:00</td>\n",
       "      <td>3.39</td>\n",
       "      <td>17850.0</td>\n",
       "      <td>United Kingdom</td>\n",
       "    </tr>\n",
       "  </tbody>\n",
       "</table>\n",
       "</div>"
      ],
      "text/plain": [
       "  InvoiceNo StockCode                          Description  Quantity  \\\n",
       "0    536365    85123A   WHITE HANGING HEART T-LIGHT HOLDER         6   \n",
       "1    536365     71053                  WHITE METAL LANTERN         6   \n",
       "2    536365    84406B       CREAM CUPID HEARTS COAT HANGER         8   \n",
       "3    536365    84029G  KNITTED UNION FLAG HOT WATER BOTTLE         6   \n",
       "4    536365    84029E       RED WOOLLY HOTTIE WHITE HEART.         6   \n",
       "\n",
       "          InvoiceDate  UnitPrice  CustomerID         Country  \n",
       "0 2010-12-01 08:26:00       2.55     17850.0  United Kingdom  \n",
       "1 2010-12-01 08:26:00       3.39     17850.0  United Kingdom  \n",
       "2 2010-12-01 08:26:00       2.75     17850.0  United Kingdom  \n",
       "3 2010-12-01 08:26:00       3.39     17850.0  United Kingdom  \n",
       "4 2010-12-01 08:26:00       3.39     17850.0  United Kingdom  "
      ]
     },
     "execution_count": 100,
     "metadata": {},
     "output_type": "execute_result"
    }
   ],
   "source": [
    "df.head()"
   ]
  },
  {
   "cell_type": "code",
   "execution_count": 101,
   "id": "bfde9f92-9f93-4228-be8a-6ff72a43d43d",
   "metadata": {},
   "outputs": [
    {
     "name": "stdout",
     "output_type": "stream",
     "text": [
      "<class 'pandas.core.frame.DataFrame'>\n",
      "RangeIndex: 541909 entries, 0 to 541908\n",
      "Data columns (total 8 columns):\n",
      " #   Column       Non-Null Count   Dtype         \n",
      "---  ------       --------------   -----         \n",
      " 0   InvoiceNo    541909 non-null  object        \n",
      " 1   StockCode    541909 non-null  object        \n",
      " 2   Description  540455 non-null  object        \n",
      " 3   Quantity     541909 non-null  int64         \n",
      " 4   InvoiceDate  541909 non-null  datetime64[ns]\n",
      " 5   UnitPrice    541909 non-null  float64       \n",
      " 6   CustomerID   406829 non-null  float64       \n",
      " 7   Country      541909 non-null  object        \n",
      "dtypes: datetime64[ns](1), float64(2), int64(1), object(4)\n",
      "memory usage: 33.1+ MB\n"
     ]
    }
   ],
   "source": [
    "df.info()"
   ]
  },
  {
   "cell_type": "code",
   "execution_count": 102,
   "id": "3893ee09-e629-45cd-bd52-05053e63cff6",
   "metadata": {},
   "outputs": [
    {
     "data": {
      "text/html": [
       "<div>\n",
       "<style scoped>\n",
       "    .dataframe tbody tr th:only-of-type {\n",
       "        vertical-align: middle;\n",
       "    }\n",
       "\n",
       "    .dataframe tbody tr th {\n",
       "        vertical-align: top;\n",
       "    }\n",
       "\n",
       "    .dataframe thead th {\n",
       "        text-align: right;\n",
       "    }\n",
       "</style>\n",
       "<table border=\"1\" class=\"dataframe\">\n",
       "  <thead>\n",
       "    <tr style=\"text-align: right;\">\n",
       "      <th></th>\n",
       "      <th>Quantity</th>\n",
       "      <th>InvoiceDate</th>\n",
       "      <th>UnitPrice</th>\n",
       "      <th>CustomerID</th>\n",
       "    </tr>\n",
       "  </thead>\n",
       "  <tbody>\n",
       "    <tr>\n",
       "      <th>count</th>\n",
       "      <td>541909.000000</td>\n",
       "      <td>541909</td>\n",
       "      <td>541909.000000</td>\n",
       "      <td>406829.000000</td>\n",
       "    </tr>\n",
       "    <tr>\n",
       "      <th>mean</th>\n",
       "      <td>9.552250</td>\n",
       "      <td>2011-07-04 13:34:57.156386048</td>\n",
       "      <td>4.611114</td>\n",
       "      <td>15287.690570</td>\n",
       "    </tr>\n",
       "    <tr>\n",
       "      <th>min</th>\n",
       "      <td>-80995.000000</td>\n",
       "      <td>2010-12-01 08:26:00</td>\n",
       "      <td>-11062.060000</td>\n",
       "      <td>12346.000000</td>\n",
       "    </tr>\n",
       "    <tr>\n",
       "      <th>25%</th>\n",
       "      <td>1.000000</td>\n",
       "      <td>2011-03-28 11:34:00</td>\n",
       "      <td>1.250000</td>\n",
       "      <td>13953.000000</td>\n",
       "    </tr>\n",
       "    <tr>\n",
       "      <th>50%</th>\n",
       "      <td>3.000000</td>\n",
       "      <td>2011-07-19 17:17:00</td>\n",
       "      <td>2.080000</td>\n",
       "      <td>15152.000000</td>\n",
       "    </tr>\n",
       "    <tr>\n",
       "      <th>75%</th>\n",
       "      <td>10.000000</td>\n",
       "      <td>2011-10-19 11:27:00</td>\n",
       "      <td>4.130000</td>\n",
       "      <td>16791.000000</td>\n",
       "    </tr>\n",
       "    <tr>\n",
       "      <th>max</th>\n",
       "      <td>80995.000000</td>\n",
       "      <td>2011-12-09 12:50:00</td>\n",
       "      <td>38970.000000</td>\n",
       "      <td>18287.000000</td>\n",
       "    </tr>\n",
       "    <tr>\n",
       "      <th>std</th>\n",
       "      <td>218.081158</td>\n",
       "      <td>NaN</td>\n",
       "      <td>96.759853</td>\n",
       "      <td>1713.600303</td>\n",
       "    </tr>\n",
       "  </tbody>\n",
       "</table>\n",
       "</div>"
      ],
      "text/plain": [
       "            Quantity                    InvoiceDate      UnitPrice  \\\n",
       "count  541909.000000                         541909  541909.000000   \n",
       "mean        9.552250  2011-07-04 13:34:57.156386048       4.611114   \n",
       "min    -80995.000000            2010-12-01 08:26:00  -11062.060000   \n",
       "25%         1.000000            2011-03-28 11:34:00       1.250000   \n",
       "50%         3.000000            2011-07-19 17:17:00       2.080000   \n",
       "75%        10.000000            2011-10-19 11:27:00       4.130000   \n",
       "max     80995.000000            2011-12-09 12:50:00   38970.000000   \n",
       "std       218.081158                            NaN      96.759853   \n",
       "\n",
       "          CustomerID  \n",
       "count  406829.000000  \n",
       "mean    15287.690570  \n",
       "min     12346.000000  \n",
       "25%     13953.000000  \n",
       "50%     15152.000000  \n",
       "75%     16791.000000  \n",
       "max     18287.000000  \n",
       "std      1713.600303  "
      ]
     },
     "execution_count": 102,
     "metadata": {},
     "output_type": "execute_result"
    }
   ],
   "source": [
    "df.describe()"
   ]
  },
  {
   "cell_type": "code",
   "execution_count": 103,
   "id": "68923058-7bc9-4b46-9c6f-b78f36d6389a",
   "metadata": {},
   "outputs": [
    {
     "data": {
      "text/plain": [
       "InvoiceNo           0\n",
       "StockCode           0\n",
       "Description      1454\n",
       "Quantity            0\n",
       "InvoiceDate         0\n",
       "UnitPrice           0\n",
       "CustomerID     135080\n",
       "Country             0\n",
       "dtype: int64"
      ]
     },
     "execution_count": 103,
     "metadata": {},
     "output_type": "execute_result"
    }
   ],
   "source": [
    "df.isnull().sum()"
   ]
  },
  {
   "cell_type": "markdown",
   "id": "096df7b7-f16e-43c4-8cd0-262aefdc2a75",
   "metadata": {},
   "source": [
    "## Clean the data"
   ]
  },
  {
   "cell_type": "code",
   "execution_count": 104,
   "id": "c70bc80f-fdae-4013-9ee8-fe3bef12b8b7",
   "metadata": {},
   "outputs": [],
   "source": [
    "df_cleaned = df.dropna()"
   ]
  },
  {
   "cell_type": "code",
   "execution_count": 105,
   "id": "4ec12daf-8b49-487e-bda4-f6afefd75e56",
   "metadata": {},
   "outputs": [],
   "source": [
    "df_cleaned = df_cleaned.drop_duplicates()"
   ]
  },
  {
   "cell_type": "code",
   "execution_count": 106,
   "id": "7d31062b-620a-4e43-9afe-49559751e17d",
   "metadata": {},
   "outputs": [
    {
     "data": {
      "text/plain": [
       "InvoiceNo              object\n",
       "StockCode              object\n",
       "Description            object\n",
       "Quantity                int64\n",
       "InvoiceDate    datetime64[ns]\n",
       "UnitPrice             float64\n",
       "CustomerID            float64\n",
       "Country                object\n",
       "dtype: object"
      ]
     },
     "execution_count": 106,
     "metadata": {},
     "output_type": "execute_result"
    }
   ],
   "source": [
    "df_cleaned.dtypes"
   ]
  },
  {
   "cell_type": "code",
   "execution_count": 107,
   "id": "f2562bc3-864a-4b37-8a66-e29f974f57a8",
   "metadata": {},
   "outputs": [],
   "source": [
    "df_cleaned['InvoiceDate'] = pd.to_datetime(df_cleaned['InvoiceDate'])"
   ]
  },
  {
   "cell_type": "code",
   "execution_count": 108,
   "id": "f37eb9f1-ad74-471b-a574-45bf58f44c20",
   "metadata": {},
   "outputs": [
    {
     "name": "stdout",
     "output_type": "stream",
     "text": [
      "<class 'pandas.core.frame.DataFrame'>\n",
      "Index: 401604 entries, 0 to 541908\n",
      "Data columns (total 8 columns):\n",
      " #   Column       Non-Null Count   Dtype         \n",
      "---  ------       --------------   -----         \n",
      " 0   InvoiceNo    401604 non-null  object        \n",
      " 1   StockCode    401604 non-null  object        \n",
      " 2   Description  401604 non-null  object        \n",
      " 3   Quantity     401604 non-null  int64         \n",
      " 4   InvoiceDate  401604 non-null  datetime64[ns]\n",
      " 5   UnitPrice    401604 non-null  float64       \n",
      " 6   CustomerID   401604 non-null  float64       \n",
      " 7   Country      401604 non-null  object        \n",
      "dtypes: datetime64[ns](1), float64(2), int64(1), object(4)\n",
      "memory usage: 27.6+ MB\n"
     ]
    }
   ],
   "source": [
    "df_cleaned.info()"
   ]
  },
  {
   "cell_type": "markdown",
   "id": "009df465-1a5c-435d-807e-047085cc8d8b",
   "metadata": {},
   "source": [
    "## Transform the Data"
   ]
  },
  {
   "cell_type": "code",
   "execution_count": 109,
   "id": "0251ce00-dd44-4c08-9888-5a8fad54f90c",
   "metadata": {},
   "outputs": [],
   "source": [
    "numerical_cols = df_cleaned.select_dtypes(include=['float64', 'int64']).columns\n",
    "scaler = StandardScaler()"
   ]
  },
  {
   "cell_type": "code",
   "execution_count": 110,
   "id": "5562fe98-0f6b-42cf-8353-fe0f52eae73c",
   "metadata": {},
   "outputs": [],
   "source": [
    "df_cleaned[numerical_cols] = scaler.fit_transform(df_cleaned[numerical_cols])"
   ]
  },
  {
   "cell_type": "code",
   "execution_count": 111,
   "id": "c7bd4893-44dc-4ef3-89c7-354a1d1928df",
   "metadata": {},
   "outputs": [],
   "source": [
    "categorical_columns = df_cleaned.select_dtypes(include=['object']).columns"
   ]
  },
  {
   "cell_type": "code",
   "execution_count": 112,
   "id": "84baaff7-3a91-425b-9cf8-b26b6ae999dd",
   "metadata": {},
   "outputs": [],
   "source": [
    "for col in categorical_columns:\n",
    "    df_cleaned[col] = df_cleaned[col].astype(str)"
   ]
  },
  {
   "cell_type": "code",
   "execution_count": 113,
   "id": "a730bd1e-7909-4dcc-8d22-c5788e867da7",
   "metadata": {},
   "outputs": [],
   "source": [
    "label_encoders = {}\n",
    "for col in categorical_columns:\n",
    "    le = LabelEncoder()\n",
    "    df_cleaned[col] = le.fit_transform(df_cleaned[col])\n",
    "    label_encoders[col] = le"
   ]
  },
  {
   "cell_type": "code",
   "execution_count": 114,
   "id": "2ec59367-e769-46cf-b075-dff8cd3c6ebe",
   "metadata": {},
   "outputs": [
    {
     "name": "stdout",
     "output_type": "stream",
     "text": [
      "Index(['InvoiceNo', 'StockCode', 'Description', 'Quantity', 'InvoiceDate',\n",
      "       'UnitPrice', 'CustomerID', 'Country'],\n",
      "      dtype='object')\n"
     ]
    }
   ],
   "source": [
    "print(df_cleaned.columns)"
   ]
  },
  {
   "cell_type": "code",
   "execution_count": 115,
   "id": "1aca6ec1-af07-4d35-97cc-fd5f350fd073",
   "metadata": {},
   "outputs": [],
   "source": [
    "df_cleaned['InvoiceYear'] = df_cleaned['InvoiceDate'].dt.year\n",
    "df_cleaned['InvoiceMonth'] = df_cleaned['InvoiceDate'].dt.month\n",
    "df_cleaned['InvoiceDay'] = df_cleaned['InvoiceDate'].dt.day\n",
    "df_cleaned['InvoiceHour'] = df_cleaned['InvoiceDate'].dt.hour\n",
    "df_cleaned['InvoiceMinute'] = df_cleaned['InvoiceDate'].dt.minute"
   ]
  },
  {
   "cell_type": "code",
   "execution_count": 116,
   "id": "07a14ed8-08f6-48b2-a38d-942d74b3ffbf",
   "metadata": {},
   "outputs": [],
   "source": [
    "df_cleaned = df_cleaned.drop(['InvoiceDate'], axis=1)"
   ]
  },
  {
   "cell_type": "code",
   "execution_count": 117,
   "id": "e3e0d650-074b-4f8c-88ac-0c771604ba0b",
   "metadata": {},
   "outputs": [
    {
     "data": {
      "text/plain": [
       "InvoiceNo          int64\n",
       "StockCode          int64\n",
       "Description        int64\n",
       "Quantity         float64\n",
       "UnitPrice        float64\n",
       "CustomerID       float64\n",
       "Country            int64\n",
       "InvoiceYear        int32\n",
       "InvoiceMonth       int32\n",
       "InvoiceDay         int32\n",
       "InvoiceHour        int32\n",
       "InvoiceMinute      int32\n",
       "dtype: object"
      ]
     },
     "execution_count": 117,
     "metadata": {},
     "output_type": "execute_result"
    }
   ],
   "source": [
    "df_cleaned.dtypes"
   ]
  },
  {
   "cell_type": "code",
   "execution_count": 118,
   "id": "cd1caf8e-c8ae-42e3-811e-2bdf5eaf9860",
   "metadata": {},
   "outputs": [
    {
     "data": {
      "text/html": [
       "<div>\n",
       "<style scoped>\n",
       "    .dataframe tbody tr th:only-of-type {\n",
       "        vertical-align: middle;\n",
       "    }\n",
       "\n",
       "    .dataframe tbody tr th {\n",
       "        vertical-align: top;\n",
       "    }\n",
       "\n",
       "    .dataframe thead th {\n",
       "        text-align: right;\n",
       "    }\n",
       "</style>\n",
       "<table border=\"1\" class=\"dataframe\">\n",
       "  <thead>\n",
       "    <tr style=\"text-align: right;\">\n",
       "      <th></th>\n",
       "      <th>InvoiceNo</th>\n",
       "      <th>StockCode</th>\n",
       "      <th>Description</th>\n",
       "      <th>Quantity</th>\n",
       "      <th>UnitPrice</th>\n",
       "      <th>CustomerID</th>\n",
       "      <th>Country</th>\n",
       "      <th>InvoiceYear</th>\n",
       "      <th>InvoiceMonth</th>\n",
       "      <th>InvoiceDay</th>\n",
       "      <th>InvoiceHour</th>\n",
       "      <th>InvoiceMinute</th>\n",
       "    </tr>\n",
       "  </thead>\n",
       "  <tbody>\n",
       "    <tr>\n",
       "      <th>0</th>\n",
       "      <td>0</td>\n",
       "      <td>3249</td>\n",
       "      <td>3716</td>\n",
       "      <td>-0.024705</td>\n",
       "      <td>-0.013246</td>\n",
       "      <td>1.498736</td>\n",
       "      <td>35</td>\n",
       "      <td>2010</td>\n",
       "      <td>12</td>\n",
       "      <td>1</td>\n",
       "      <td>8</td>\n",
       "      <td>26</td>\n",
       "    </tr>\n",
       "    <tr>\n",
       "      <th>1</th>\n",
       "      <td>0</td>\n",
       "      <td>2649</td>\n",
       "      <td>3724</td>\n",
       "      <td>-0.024705</td>\n",
       "      <td>-0.001205</td>\n",
       "      <td>1.498736</td>\n",
       "      <td>35</td>\n",
       "      <td>2010</td>\n",
       "      <td>12</td>\n",
       "      <td>1</td>\n",
       "      <td>8</td>\n",
       "      <td>26</td>\n",
       "    </tr>\n",
       "    <tr>\n",
       "      <th>2</th>\n",
       "      <td>0</td>\n",
       "      <td>2855</td>\n",
       "      <td>861</td>\n",
       "      <td>-0.016714</td>\n",
       "      <td>-0.010379</td>\n",
       "      <td>1.498736</td>\n",
       "      <td>35</td>\n",
       "      <td>2010</td>\n",
       "      <td>12</td>\n",
       "      <td>1</td>\n",
       "      <td>8</td>\n",
       "      <td>26</td>\n",
       "    </tr>\n",
       "    <tr>\n",
       "      <th>3</th>\n",
       "      <td>0</td>\n",
       "      <td>2803</td>\n",
       "      <td>1813</td>\n",
       "      <td>-0.024705</td>\n",
       "      <td>-0.001205</td>\n",
       "      <td>1.498736</td>\n",
       "      <td>35</td>\n",
       "      <td>2010</td>\n",
       "      <td>12</td>\n",
       "      <td>1</td>\n",
       "      <td>8</td>\n",
       "      <td>26</td>\n",
       "    </tr>\n",
       "    <tr>\n",
       "      <th>4</th>\n",
       "      <td>0</td>\n",
       "      <td>2802</td>\n",
       "      <td>2776</td>\n",
       "      <td>-0.024705</td>\n",
       "      <td>-0.001205</td>\n",
       "      <td>1.498736</td>\n",
       "      <td>35</td>\n",
       "      <td>2010</td>\n",
       "      <td>12</td>\n",
       "      <td>1</td>\n",
       "      <td>8</td>\n",
       "      <td>26</td>\n",
       "    </tr>\n",
       "  </tbody>\n",
       "</table>\n",
       "</div>"
      ],
      "text/plain": [
       "   InvoiceNo  StockCode  Description  Quantity  UnitPrice  CustomerID  \\\n",
       "0          0       3249         3716 -0.024705  -0.013246    1.498736   \n",
       "1          0       2649         3724 -0.024705  -0.001205    1.498736   \n",
       "2          0       2855          861 -0.016714  -0.010379    1.498736   \n",
       "3          0       2803         1813 -0.024705  -0.001205    1.498736   \n",
       "4          0       2802         2776 -0.024705  -0.001205    1.498736   \n",
       "\n",
       "   Country  InvoiceYear  InvoiceMonth  InvoiceDay  InvoiceHour  InvoiceMinute  \n",
       "0       35         2010            12           1            8             26  \n",
       "1       35         2010            12           1            8             26  \n",
       "2       35         2010            12           1            8             26  \n",
       "3       35         2010            12           1            8             26  \n",
       "4       35         2010            12           1            8             26  "
      ]
     },
     "execution_count": 118,
     "metadata": {},
     "output_type": "execute_result"
    }
   ],
   "source": [
    "df_cleaned.head()"
   ]
  },
  {
   "cell_type": "markdown",
   "id": "8d27a60e-1c5d-4949-969a-4b8c18deb8bd",
   "metadata": {},
   "source": [
    "## Feature Engineering"
   ]
  },
  {
   "cell_type": "code",
   "execution_count": 120,
   "id": "6288439d-d591-440f-9625-d98418ee6604",
   "metadata": {},
   "outputs": [],
   "source": [
    "df_cleaned['TotalPrice'] = df_cleaned['Quantity'] * df_cleaned['UnitPrice']"
   ]
  },
  {
   "cell_type": "code",
   "execution_count": 121,
   "id": "1f9b0cf5-4658-4b35-afa8-c71ddf48d099",
   "metadata": {},
   "outputs": [],
   "source": [
    "X = df_cleaned.drop(['TotalPrice'], axis=1)\n",
    "y = df_cleaned['TotalPrice']"
   ]
  },
  {
   "cell_type": "code",
   "execution_count": 122,
   "id": "d29894fc-a7b4-457f-becd-494bb3f22d67",
   "metadata": {},
   "outputs": [
    {
     "name": "stderr",
     "output_type": "stream",
     "text": [
      "C:\\Users\\hp\\AppData\\Local\\Programs\\Python\\Python312\\Lib\\site-packages\\sklearn\\feature_selection\\_univariate_selection.py:113: RuntimeWarning: divide by zero encountered in divide\n",
      "  f = msb / msw\n"
     ]
    }
   ],
   "source": [
    "selector = SelectKBest(score_func=f_classif, k=5)\n",
    "X_new = selector.fit_transform(X, y)"
   ]
  },
  {
   "cell_type": "code",
   "execution_count": 123,
   "id": "dc718612-c7a0-4416-bdd3-dcbafa4e552f",
   "metadata": {},
   "outputs": [],
   "source": [
    "selected_features = X.columns[selector.get_support()]"
   ]
  },
  {
   "cell_type": "code",
   "execution_count": 124,
   "id": "295b4173-f049-42a2-b601-2c29d0827e1a",
   "metadata": {},
   "outputs": [
    {
     "data": {
      "text/plain": [
       "Index(['InvoiceNo', 'StockCode', 'Description', 'Quantity', 'UnitPrice'], dtype='object')"
      ]
     },
     "execution_count": 124,
     "metadata": {},
     "output_type": "execute_result"
    }
   ],
   "source": [
    "selected_features"
   ]
  },
  {
   "cell_type": "markdown",
   "id": "2f90b253-47d8-4e4c-b5db-ba8c8db9474f",
   "metadata": {},
   "source": [
    "## Standardize the Data"
   ]
  },
  {
   "cell_type": "code",
   "execution_count": 125,
   "id": "9c08fa4f-f5c0-491c-9e11-aa4b3949f8b5",
   "metadata": {},
   "outputs": [],
   "source": [
    "features = ['Quantity', 'UnitPrice']"
   ]
  },
  {
   "cell_type": "code",
   "execution_count": 126,
   "id": "99f3c1f2-0555-48e6-b701-32802e64c183",
   "metadata": {},
   "outputs": [],
   "source": [
    "scaler = StandardScaler()\n",
    "df[features] = scaler.fit_transform(df[features])"
   ]
  },
  {
   "cell_type": "code",
   "execution_count": 127,
   "id": "3cdc92d0-e0d0-49d6-9e51-639e26bec76d",
   "metadata": {},
   "outputs": [
    {
     "name": "stdout",
     "output_type": "stream",
     "text": [
      "   Quantity  UnitPrice\n",
      "0 -0.016289  -0.021301\n",
      "1 -0.016289  -0.012620\n",
      "2 -0.007118  -0.019234\n",
      "3 -0.016289  -0.012620\n",
      "4 -0.016289  -0.012620\n"
     ]
    }
   ],
   "source": [
    "print(df[features].head())"
   ]
  },
  {
   "cell_type": "markdown",
   "id": "52169a12-9631-4a4c-9d57-7e84e41506a8",
   "metadata": {},
   "source": [
    "## Determine the Optimal Number of Clusters using the Elbow Method"
   ]
  },
  {
   "cell_type": "code",
   "execution_count": 128,
   "id": "c44fdcd9-3920-4334-8d34-b1746c2df5d4",
   "metadata": {},
   "outputs": [],
   "source": [
    "wcss = []\n",
    "for i in range(1, 11):\n",
    "    kmeans = KMeans(n_clusters=i, random_state=42)\n",
    "    kmeans.fit(df[features])\n",
    "    wcss.append(kmeans.inertia_)"
   ]
  },
  {
   "cell_type": "code",
   "execution_count": 129,
   "id": "eb555647-53c9-4b54-83e9-65a49fa6b63c",
   "metadata": {},
   "outputs": [
    {
     "data": {
      "image/png": "[encoded data removed]",
      "text/plain": [
       "<Figure size 1000x500 with 1 Axes>"
      ]
     },
     "metadata": {},
     "output_type": "display_data"
    }
   ],
   "source": [
    "plt.figure(figsize=(10, 5))\n",
    "plt.plot(range(1, 11), wcss, marker='o')\n",
    "plt.title('Elbow Method')\n",
    "plt.xlabel('Number of Clusters')\n",
    "plt.ylabel('WCSS')\n",
    "plt.show()"
   ]
  },
  {
   "cell_type": "markdown",
   "id": "08d85de3-f12a-4609-9342-51dcb6972afe",
   "metadata": {},
   "source": [
    "## The determination of the optimal number of clusters using the elbow method involves identifying the point where the within-cluster sum of squares (WCSS) starts to decrease more slowly.In your case, the decrease from 𝑘=3 to k=4 is less steep compared to the decrease from k=2 to k=4 , suggesting that k=3 might be the optimal choice. "
   ]
  },
  {
   "cell_type": "markdown",
   "id": "8dff3f1a-091c-47e6-8d70-9aa29992aa37",
   "metadata": {},
   "source": [
    "## Run K-Means Clustering"
   ]
  },
  {
   "cell_type": "code",
   "execution_count": 130,
   "id": "80c80ae1-39fb-49c2-82ea-275fb26ee236",
   "metadata": {},
   "outputs": [],
   "source": [
    "optimal_clusters = 3  \n",
    "kmeans = KMeans(n_clusters=optimal_clusters, random_state=42)\n",
    "df['Cluster'] = kmeans.fit_predict(df[features])"
   ]
  },
  {
   "cell_type": "code",
   "execution_count": 131,
   "id": "9856eee4-e4d8-49c4-a561-9d4150651421",
   "metadata": {},
   "outputs": [
    {
     "name": "stdout",
     "output_type": "stream",
     "text": [
      "Cluster\n",
      "0    541876\n",
      "1        31\n",
      "2         2\n",
      "Name: count, dtype: int64\n"
     ]
    }
   ],
   "source": [
    "print(df['Cluster'].value_counts())"
   ]
  },
  {
   "cell_type": "code",
   "execution_count": 132,
   "id": "3154ad01-5457-41ea-86c8-bd482f1131b4",
   "metadata": {},
   "outputs": [
    {
     "name": "stdout",
     "output_type": "stream",
     "text": [
      "  InvoiceNo StockCode                          Description  Quantity  \\\n",
      "0    536365    85123A   WHITE HANGING HEART T-LIGHT HOLDER -0.016289   \n",
      "1    536365     71053                  WHITE METAL LANTERN -0.016289   \n",
      "2    536365    84406B       CREAM CUPID HEARTS COAT HANGER -0.007118   \n",
      "3    536365    84029G  KNITTED UNION FLAG HOT WATER BOTTLE -0.016289   \n",
      "4    536365    84029E       RED WOOLLY HOTTIE WHITE HEART. -0.016289   \n",
      "\n",
      "          InvoiceDate  UnitPrice  CustomerID         Country  Cluster  \n",
      "0 2010-12-01 08:26:00  -0.021301     17850.0  United Kingdom        0  \n",
      "1 2010-12-01 08:26:00  -0.012620     17850.0  United Kingdom        0  \n",
      "2 2010-12-01 08:26:00  -0.019234     17850.0  United Kingdom        0  \n",
      "3 2010-12-01 08:26:00  -0.012620     17850.0  United Kingdom        0  \n",
      "4 2010-12-01 08:26:00  -0.012620     17850.0  United Kingdom        0  \n"
     ]
    }
   ],
   "source": [
    "print(df.head())"
   ]
  },
  {
   "cell_type": "markdown",
   "id": "02ea5fc7-a7c7-4734-a309-b6bbc90f71fa",
   "metadata": {},
   "source": [
    "## Visualize the Clusters"
   ]
  },
  {
   "cell_type": "code",
   "execution_count": 133,
   "id": "a211bc95-c2f3-4325-b7af-eb46272e8ae1",
   "metadata": {},
   "outputs": [
    {
     "data": {
      "image/png": "[encoded data removed]",
      "text/plain": [
       "<Figure size 1000x600 with 1 Axes>"
      ]
     },
     "metadata": {},
     "output_type": "display_data"
    }
   ],
   "source": [
    "plt.figure(figsize=(10, 6))\n",
    "sns.scatterplot(x='Quantity', y='UnitPrice', hue='Cluster', data=df, palette='viridis')\n",
    "plt.scatter(kmeans.cluster_centers_[:, 0], kmeans.cluster_centers_[:, 1], s=300, c='red', label='Centroids')\n",
    "plt.title('Customer Segmentation')\n",
    "plt.xlabel('Quantity')\n",
    "plt.ylabel('UnitPrice')\n",
    "plt.legend()\n",
    "plt.show()"
   ]
  },
  {
   "cell_type": "markdown",
   "id": "b28c62ad-e626-4e88-8f96-e8af54777a3c",
   "metadata": {},
   "source": [
    "## Assign Cluster Labels to the Original Data"
   ]
  },
  {
   "cell_type": "code",
   "execution_count": 134,
   "id": "c547307c-bb3b-46a4-ab96-6c3aebd1319a",
   "metadata": {},
   "outputs": [],
   "source": [
    "original_data = pd.read_excel(r\"E:\\New folder\\Dataset_Identify customer segments for online retail with the use of K-means clustering\\Online Retail.xlsx\", sheet_name=\"Online Retail\")\n",
    "original_data['Cluster'] = df['Cluster']"
   ]
  },
  {
   "cell_type": "code",
   "execution_count": 135,
   "id": "e177fc7b-1291-4515-b562-895848f030dc",
   "metadata": {},
   "outputs": [
    {
     "data": {
      "text/html": [
       "<div>\n",
       "<style scoped>\n",
       "    .dataframe tbody tr th:only-of-type {\n",
       "        vertical-align: middle;\n",
       "    }\n",
       "\n",
       "    .dataframe tbody tr th {\n",
       "        vertical-align: top;\n",
       "    }\n",
       "\n",
       "    .dataframe thead th {\n",
       "        text-align: right;\n",
       "    }\n",
       "</style>\n",
       "<table border=\"1\" class=\"dataframe\">\n",
       "  <thead>\n",
       "    <tr style=\"text-align: right;\">\n",
       "      <th></th>\n",
       "      <th>InvoiceNo</th>\n",
       "      <th>StockCode</th>\n",
       "      <th>Description</th>\n",
       "      <th>Quantity</th>\n",
       "      <th>InvoiceDate</th>\n",
       "      <th>UnitPrice</th>\n",
       "      <th>CustomerID</th>\n",
       "      <th>Country</th>\n",
       "      <th>Cluster</th>\n",
       "    </tr>\n",
       "  </thead>\n",
       "  <tbody>\n",
       "    <tr>\n",
       "      <th>0</th>\n",
       "      <td>536365</td>\n",
       "      <td>85123A</td>\n",
       "      <td>WHITE HANGING HEART T-LIGHT HOLDER</td>\n",
       "      <td>6</td>\n",
       "      <td>2010-12-01 08:26:00</td>\n",
       "      <td>2.55</td>\n",
       "      <td>17850.0</td>\n",
       "      <td>United Kingdom</td>\n",
       "      <td>0</td>\n",
       "    </tr>\n",
       "    <tr>\n",
       "      <th>1</th>\n",
       "      <td>536365</td>\n",
       "      <td>71053</td>\n",
       "      <td>WHITE METAL LANTERN</td>\n",
       "      <td>6</td>\n",
       "      <td>2010-12-01 08:26:00</td>\n",
       "      <td>3.39</td>\n",
       "      <td>17850.0</td>\n",
       "      <td>United Kingdom</td>\n",
       "      <td>0</td>\n",
       "    </tr>\n",
       "    <tr>\n",
       "      <th>2</th>\n",
       "      <td>536365</td>\n",
       "      <td>84406B</td>\n",
       "      <td>CREAM CUPID HEARTS COAT HANGER</td>\n",
       "      <td>8</td>\n",
       "      <td>2010-12-01 08:26:00</td>\n",
       "      <td>2.75</td>\n",
       "      <td>17850.0</td>\n",
       "      <td>United Kingdom</td>\n",
       "      <td>0</td>\n",
       "    </tr>\n",
       "    <tr>\n",
       "      <th>3</th>\n",
       "      <td>536365</td>\n",
       "      <td>84029G</td>\n",
       "      <td>KNITTED UNION FLAG HOT WATER BOTTLE</td>\n",
       "      <td>6</td>\n",
       "      <td>2010-12-01 08:26:00</td>\n",
       "      <td>3.39</td>\n",
       "      <td>17850.0</td>\n",
       "      <td>United Kingdom</td>\n",
       "      <td>0</td>\n",
       "    </tr>\n",
       "    <tr>\n",
       "      <th>4</th>\n",
       "      <td>536365</td>\n",
       "      <td>84029E</td>\n",
       "      <td>RED WOOLLY HOTTIE WHITE HEART.</td>\n",
       "      <td>6</td>\n",
       "      <td>2010-12-01 08:26:00</td>\n",
       "      <td>3.39</td>\n",
       "      <td>17850.0</td>\n",
       "      <td>United Kingdom</td>\n",
       "      <td>0</td>\n",
       "    </tr>\n",
       "  </tbody>\n",
       "</table>\n",
       "</div>"
      ],
      "text/plain": [
       "  InvoiceNo StockCode                          Description  Quantity  \\\n",
       "0    536365    85123A   WHITE HANGING HEART T-LIGHT HOLDER         6   \n",
       "1    536365     71053                  WHITE METAL LANTERN         6   \n",
       "2    536365    84406B       CREAM CUPID HEARTS COAT HANGER         8   \n",
       "3    536365    84029G  KNITTED UNION FLAG HOT WATER BOTTLE         6   \n",
       "4    536365    84029E       RED WOOLLY HOTTIE WHITE HEART.         6   \n",
       "\n",
       "          InvoiceDate  UnitPrice  CustomerID         Country  Cluster  \n",
       "0 2010-12-01 08:26:00       2.55     17850.0  United Kingdom        0  \n",
       "1 2010-12-01 08:26:00       3.39     17850.0  United Kingdom        0  \n",
       "2 2010-12-01 08:26:00       2.75     17850.0  United Kingdom        0  \n",
       "3 2010-12-01 08:26:00       3.39     17850.0  United Kingdom        0  \n",
       "4 2010-12-01 08:26:00       3.39     17850.0  United Kingdom        0  "
      ]
     },
     "execution_count": 135,
     "metadata": {},
     "output_type": "execute_result"
    }
   ],
   "source": [
    "original_data.head()"
   ]
  },
  {
   "cell_type": "markdown",
   "id": "5f1ae1e7-4cca-4525-b0d4-ab300ffc225c",
   "metadata": {},
   "source": [
    "## Analyze Each Segment"
   ]
  },
  {
   "cell_type": "code",
   "execution_count": 136,
   "id": "d44c1599-bf9d-4a3e-ab95-57e8782588b4",
   "metadata": {},
   "outputs": [],
   "source": [
    "cluster_summary = original_data.groupby('Cluster').agg({\n",
    "    'Quantity': ['mean', 'median', 'std'],\n",
    "    'UnitPrice': ['mean', 'median', 'std']\n",
    "}).reset_index()"
   ]
  },
  {
   "cell_type": "code",
   "execution_count": 137,
   "id": "7916e912-2e72-4c06-874c-e8060c9ef94e",
   "metadata": {},
   "outputs": [
    {
     "name": "stdout",
     "output_type": "stream",
     "text": [
      "  Cluster      Quantity                          UnitPrice           \\\n",
      "                   mean   median          std         mean   median   \n",
      "0       0      9.266447      3.0   159.049517     4.054723     2.08   \n",
      "1       1     -0.806452     -1.0     0.601074  9730.436452  6930.00   \n",
      "2       2  77605.000000  77605.0  4794.183976     1.560000     1.56   \n",
      "\n",
      "                \n",
      "           std  \n",
      "0    38.715649  \n",
      "1  6655.498688  \n",
      "2     0.735391  \n"
     ]
    }
   ],
   "source": [
    "print(cluster_summary)"
   ]
  },
  {
   "cell_type": "code",
   "execution_count": 138,
   "id": "f4c9afce-5708-444e-9a68-de8561a6da2e",
   "metadata": {},
   "outputs": [
    {
     "data": {
      "image/png": "[encoded data removed]",
      "text/plain": [
       "<Figure size 1500x700 with 1 Axes>"
      ]
     },
     "metadata": {},
     "output_type": "display_data"
    }
   ],
   "source": [
    "cluster_summary.plot(kind='bar', figsize=(15, 7))\n",
    "plt.title('Cluster Summary Statistics')\n",
    "plt.show()"
   ]
  },
  {
   "cell_type": "markdown",
   "id": "4cc0688f-479f-4bef-a7b4-92ee8fc5f9b9",
   "metadata": {},
   "source": [
    "## Profile the Customer Segments"
   ]
  },
  {
   "cell_type": "code",
   "execution_count": 139,
   "id": "b90188c8-ebb9-4c7f-8ea2-b775364e59e8",
   "metadata": {},
   "outputs": [
    {
     "name": "stdout",
     "output_type": "stream",
     "text": [
      "Cluster 0 Profile:\n",
      "Mean Quantity: 9.266446567111295\n",
      "Mean UnitPrice: 4.054723449645307\n",
      "Number of Customers: 4372\n",
      "----------------------------------------\n",
      "Cluster 1 Profile:\n",
      "Mean Quantity: -0.8064516129032258\n",
      "Mean UnitPrice: 9730.436451612904\n",
      "Number of Customers: 2\n",
      "----------------------------------------\n",
      "Cluster 2 Profile:\n",
      "Mean Quantity: 77605.0\n",
      "Mean UnitPrice: 1.56\n",
      "Number of Customers: 2\n",
      "----------------------------------------\n"
     ]
    }
   ],
   "source": [
    "for cluster in original_data['Cluster'].unique():\n",
    "    cluster_data = original_data[original_data['Cluster'] == cluster]\n",
    "    print(f\"Cluster {cluster} Profile:\")\n",
    "    print(f\"Mean Quantity: {cluster_data['Quantity'].mean()}\")\n",
    "    print(f\"Mean UnitPrice: {cluster_data['UnitPrice'].mean()}\")\n",
    "    print(f\"Number of Customers: {cluster_data['CustomerID'].nunique()}\")\n",
    "    print(\"-\" * 40)"
   ]
  },
  {
   "cell_type": "code",
   "execution_count": 140,
   "id": "fccd03d6-25fb-4604-b6fd-65fad6b3092e",
   "metadata": {},
   "outputs": [
    {
     "data": {
      "text/plain": [
       "<Figure size 1500x500 with 0 Axes>"
      ]
     },
     "execution_count": 140,
     "metadata": {},
     "output_type": "execute_result"
    },
    {
     "data": {
      "text/plain": [
       "<Figure size 1500x500 with 0 Axes>"
      ]
     },
     "metadata": {},
     "output_type": "display_data"
    }
   ],
   "source": [
    "plt.figure(figsize=(15, 5))"
   ]
  },
  {
   "cell_type": "code",
   "execution_count": 141,
   "id": "847dfa96-9522-4c34-9257-898fc648782e",
   "metadata": {},
   "outputs": [
    {
     "data": {
      "image/png": "[encoded data removed]",
      "text/plain": [
       "<Figure size 640x480 with 1 Axes>"
      ]
     },
     "metadata": {},
     "output_type": "display_data"
    }
   ],
   "source": [
    "plt.subplot(1, 2, 1)\n",
    "sns.boxplot(x='Cluster', y='Quantity', data=original_data)\n",
    "plt.title('Quantity Distribution by Cluster')\n",
    "plt.tight_layout()\n",
    "plt.show()"
   ]
  },
  {
   "cell_type": "code",
   "execution_count": null,
   "id": "2393f428-8ab8-4e99-bfa5-568c4dd11575",
   "metadata": {},
   "outputs": [],
   "source": []
  }
 ],
 "metadata": {
  "kernelspec": {
   "display_name": "Python 3 (ipykernel)",
   "language": "python",
   "name": "python3"
  },
  "language_info": {
   "codemirror_mode": {
    "name": "ipython",
    "version": 3
   },
   "file_extension": ".py",
   "mimetype": "text/x-python",
   "name": "python",
   "nbconvert_exporter": "python",
   "pygments_lexer": "ipython3",
   "version": "3.12.4"
  }
 },
 "nbformat": 4,
 "nbformat_minor": 5
}
